{
 "cells": [
  {
   "cell_type": "markdown",
   "metadata": {},
   "source": [
    "# Name Deduplicator\n",
    "\n",
    "## Introduction\n",
    "Redundancy in formats of names and their parts leads to a lot of confusion while handling data. Having multiple entries for same person leads to increased size of databases and inefficient operations. Thus, deDuplication of entries is an essential task and this script aims to achieve the same\n",
    "\n",
    "## External Libraries and Pre-requisites\n",
    "The script runs on Python3 (tested on ver3.6) and requires the following libraries to be installed:\n",
    "1. nameparser\n",
    "2. pandas\n",
    "\n",
    "## Working\n",
    "The following functions were created:"
   ]
  },
  {
   "cell_type": "code",
   "execution_count": 2,
   "metadata": {
    "collapsed": true
   },
   "outputs": [],
   "source": [
    "import pandas as pd\n",
    "from nameparser.parser import HumanName"
   ]
  },
  {
   "cell_type": "markdown",
   "metadata": {},
   "source": [
    "### preProcess\n",
    "This function reads the first name and last name of the entry appends them into a single string and then converts the resulting string into a HumanName object\n",
    "\n",
    "After that the function reads the Date of Birth of the entry. Since only the last two digits of the year are given in the dob, the function adds "
   ]
  },
  {
   "cell_type": "code",
   "execution_count": 11,
   "metadata": {
    "collapsed": true
   },
   "outputs": [],
   "source": [
    "def preProcess(names):\n",
    "    #Converting names to HumanName class objects\n",
    "    fullName = []\n",
    "    for x,name in names.iterrows():\n",
    "        fullName.append(HumanName(name.fn + ' ' + name.ln))\n",
    "    names['fullName'] = fullName\n",
    "    \n",
    "    #Converting dob to pandas.datetime object (assuming that entries are not older than 100 years)\n",
    "    dobs = []\n",
    "    for entry in names.dob:\n",
    "        if(int(entry[-2:]) < 18):\n",
    "            dob = 2000+int(entry[-2:])\n",
    "        else:\n",
    "            dob = 1900+int(entry[-2:])\n",
    "        dobs.append(str(entry[:-2])+str(dob))\n",
    "    names.dob = dobs\n",
    "    names.dob = pd.to_datetime(names.dob)\n",
    "\n",
    "def checkSame(names):\n",
    "    same = []\n",
    "    for x,entry in names.iterrows():\n",
    "        if(entry.dob1 == entry.dob2 and entry.gn1 == entry.gn2 and (entry.fullName1.first == entry.fullName2.first or entry.fullName1.last == entry.fullName2.last)):\n",
    "            same.append(1)\n",
    "        else:\n",
    "            same.append(0)\n",
    "    names['same'] = same\n",
    "\n",
    "def processNames(name1, name2):\n",
    "    names = list((set(name1.middle.split(' ')) | set(name2.middle.split(' ')) | set(name1.last.split(' ')) | set(name2.last.split(' '))) - {''})\n",
    "    for name in names:\n",
    "            if(len(name) == 1):\n",
    "                for othername in names:\n",
    "                    if(othername[0] == str(name) and othername!=name):\n",
    "                        names.remove(name)\n",
    "                        break\n",
    "    if(name1.last in names):\n",
    "        names.remove(name1.last)\n",
    "        name1.middle = ' '.join(names)\n",
    "    elif(name2.last in names):\n",
    "        names.remove(name2.last)\n",
    "        name1.last = name2.last\n",
    "        name1.middle = ' '.join(names)\n",
    "        \n",
    "def sumAP(a,n,d):\n",
    "    s = n * (2 * a + (n-1)*d)/2\n",
    "    return s\n",
    "\n",
    "def generateCross(names):\n",
    "    #Create a new dataframe which compares every entry with every other entry\n",
    "    entries = []\n",
    "    for i in range(len(names)):\n",
    "        for j in range(i+1,len(names)):\n",
    "            record = {}\n",
    "            record['fullName1'] = names.fullName[i]\n",
    "            record['dob1'] = names.dob[i]\n",
    "            record['gn1'] = names.gn[i]\n",
    "            record['fullName2'] = names.fullName[j]\n",
    "            record['dob2'] = names.dob[j]\n",
    "            record['gn2'] = names.gn[j]\n",
    "            entries.append(record)\n",
    "    namesCross = pd.DataFrame(entries)\n",
    "    count = 0\n",
    "    for x,name in namesCross.loc[(namesCross.dob1 == namesCross.dob2)].iterrows():\n",
    "        if(name.fullName1.first == name.fullName1.first):\n",
    "            count+=1\n",
    "    print(\"Number of entries having same date of birth and first name: \", count)\n",
    "    print(\"Number of entries having same date of birth and gender: \", len(namesCross.loc[(namesCross.dob1 == namesCross.dob2) & (namesCross.gn1 == namesCross.gn2)]))\n",
    "    print(\"Number of entries having same date of birth: \",len(namesCross.loc[(namesCross.dob1 == namesCross.dob2)]))\n",
    "    return namesCross\n",
    "\n",
    "def deDuplicate(names):\n",
    "    namesCross = generateCross(names)\n",
    "    namesCross.head()\n",
    "    checkSame(namesCross)\n",
    "    n = len(names)\n",
    "    finals = []\n",
    "    deleted = set()\n",
    "    for x,name1 in names.iterrows():\n",
    "        if x in deleted:\n",
    "            continue\n",
    "        record = {}\n",
    "        if(x == 0):\n",
    "            record['fullName'] = namesCross.fullName1[x]\n",
    "            record['dob'] = namesCross.dob1[x]\n",
    "            record['gn'] = namesCross.gn1[x]\n",
    "            for y,name2 in names.loc[x+1:].iterrows():\n",
    "                z = y\n",
    "                z-=1\n",
    "    #             print(z,\" \",namesCross.same[z])\n",
    "                if(namesCross.same[z] == 1):\n",
    "                    processNames(record['fullName'],namesCross.fullName2[z])\n",
    "                    deleted.add(y)\n",
    "\n",
    "        elif(x!=len(names)-1):\n",
    "            t = sumAP(n-1,x,-1)\n",
    "    #         print(t)\n",
    "            record['fullName'] = namesCross.fullName1[t]\n",
    "            record['dob'] = namesCross.dob1[t]\n",
    "            record['gn'] = namesCross.gn1[t]\n",
    "            for y,name2 in names.loc[x+1:].iterrows():\n",
    "                k = y-x-1\n",
    "    #             print(t+k)\n",
    "                if(namesCross.same[t+k] == 1):\n",
    "#                     print(\"yeah\", x, y, t+k)\n",
    "                    processNames(record['fullName'],namesCross.fullName2[t+k])\n",
    "                    deleted.add(y)\n",
    "        else:\n",
    "            record['fullName'] = namesCross.fullName1[len(namesCross) - 1]\n",
    "            record['dob'] = namesCross.dob1[len(namesCross) - 1]\n",
    "            record['gn'] = namesCross.gn1[len(namesCross) - 1]\n",
    "        finals.append(record)\n",
    "#         print(finals)\n",
    "    finals = pd.DataFrame(finals)\n",
    "    return finals"
   ]
  },
  {
   "cell_type": "code",
   "execution_count": 12,
   "metadata": {
    "collapsed": true
   },
   "outputs": [],
   "source": [
    "names = pd.read_csv(\"names.csv\")"
   ]
  },
  {
   "cell_type": "code",
   "execution_count": 13,
   "metadata": {},
   "outputs": [
    {
     "data": {
      "text/html": [
       "<div>\n",
       "<style>\n",
       "    .dataframe thead tr:only-child th {\n",
       "        text-align: right;\n",
       "    }\n",
       "\n",
       "    .dataframe thead th {\n",
       "        text-align: left;\n",
       "    }\n",
       "\n",
       "    .dataframe tbody tr th {\n",
       "        vertical-align: top;\n",
       "    }\n",
       "</style>\n",
       "<table border=\"1\" class=\"dataframe\">\n",
       "  <thead>\n",
       "    <tr style=\"text-align: right;\">\n",
       "      <th></th>\n",
       "      <th>ln</th>\n",
       "      <th>dob</th>\n",
       "      <th>gn</th>\n",
       "      <th>fn</th>\n",
       "    </tr>\n",
       "  </thead>\n",
       "  <tbody>\n",
       "    <tr>\n",
       "      <th>0</th>\n",
       "      <td>SMITH JR</td>\n",
       "      <td>01/03/68</td>\n",
       "      <td>F</td>\n",
       "      <td>WILLIAM</td>\n",
       "    </tr>\n",
       "    <tr>\n",
       "      <th>1</th>\n",
       "      <td>ROTHMEYER JR</td>\n",
       "      <td>01/03/68</td>\n",
       "      <td>F</td>\n",
       "      <td>WILLIAM</td>\n",
       "    </tr>\n",
       "    <tr>\n",
       "      <th>2</th>\n",
       "      <td>ASBY JR</td>\n",
       "      <td>01/03/68</td>\n",
       "      <td>F</td>\n",
       "      <td>WILLIAM</td>\n",
       "    </tr>\n",
       "    <tr>\n",
       "      <th>3</th>\n",
       "      <td>SALTER JR</td>\n",
       "      <td>01/03/68</td>\n",
       "      <td>F</td>\n",
       "      <td>WILLIAM</td>\n",
       "    </tr>\n",
       "    <tr>\n",
       "      <th>4</th>\n",
       "      <td>SALTER JR</td>\n",
       "      <td>01/03/68</td>\n",
       "      <td>F</td>\n",
       "      <td>WILLIAM</td>\n",
       "    </tr>\n",
       "  </tbody>\n",
       "</table>\n",
       "</div>"
      ],
      "text/plain": [
       "             ln       dob gn       fn\n",
       "0      SMITH JR  01/03/68  F  WILLIAM\n",
       "1  ROTHMEYER JR  01/03/68  F  WILLIAM\n",
       "2       ASBY JR  01/03/68  F  WILLIAM\n",
       "3     SALTER JR  01/03/68  F  WILLIAM\n",
       "4     SALTER JR  01/03/68  F  WILLIAM"
      ]
     },
     "execution_count": 13,
     "metadata": {},
     "output_type": "execute_result"
    }
   ],
   "source": [
    "names.head()"
   ]
  },
  {
   "cell_type": "code",
   "execution_count": 14,
   "metadata": {},
   "outputs": [],
   "source": [
    "preProcess(names)"
   ]
  },
  {
   "cell_type": "code",
   "execution_count": 15,
   "metadata": {},
   "outputs": [
    {
     "data": {
      "text/html": [
       "<div>\n",
       "<style>\n",
       "    .dataframe thead tr:only-child th {\n",
       "        text-align: right;\n",
       "    }\n",
       "\n",
       "    .dataframe thead th {\n",
       "        text-align: left;\n",
       "    }\n",
       "\n",
       "    .dataframe tbody tr th {\n",
       "        vertical-align: top;\n",
       "    }\n",
       "</style>\n",
       "<table border=\"1\" class=\"dataframe\">\n",
       "  <thead>\n",
       "    <tr style=\"text-align: right;\">\n",
       "      <th></th>\n",
       "      <th>ln</th>\n",
       "      <th>dob</th>\n",
       "      <th>gn</th>\n",
       "      <th>fn</th>\n",
       "      <th>fullName</th>\n",
       "    </tr>\n",
       "  </thead>\n",
       "  <tbody>\n",
       "    <tr>\n",
       "      <th>0</th>\n",
       "      <td>SMITH JR</td>\n",
       "      <td>1968-01-03</td>\n",
       "      <td>F</td>\n",
       "      <td>WILLIAM</td>\n",
       "      <td>WILLIAM SMITH JR</td>\n",
       "    </tr>\n",
       "    <tr>\n",
       "      <th>1</th>\n",
       "      <td>ROTHMEYER JR</td>\n",
       "      <td>1968-01-03</td>\n",
       "      <td>F</td>\n",
       "      <td>WILLIAM</td>\n",
       "      <td>WILLIAM ROTHMEYER JR</td>\n",
       "    </tr>\n",
       "    <tr>\n",
       "      <th>2</th>\n",
       "      <td>ASBY JR</td>\n",
       "      <td>1968-01-03</td>\n",
       "      <td>F</td>\n",
       "      <td>WILLIAM</td>\n",
       "      <td>WILLIAM ASBY JR</td>\n",
       "    </tr>\n",
       "    <tr>\n",
       "      <th>3</th>\n",
       "      <td>SALTER JR</td>\n",
       "      <td>1968-01-03</td>\n",
       "      <td>F</td>\n",
       "      <td>WILLIAM</td>\n",
       "      <td>WILLIAM SALTER JR</td>\n",
       "    </tr>\n",
       "    <tr>\n",
       "      <th>4</th>\n",
       "      <td>SALTER JR</td>\n",
       "      <td>1968-01-03</td>\n",
       "      <td>F</td>\n",
       "      <td>WILLIAM</td>\n",
       "      <td>WILLIAM SALTER JR</td>\n",
       "    </tr>\n",
       "  </tbody>\n",
       "</table>\n",
       "</div>"
      ],
      "text/plain": [
       "             ln        dob gn       fn              fullName\n",
       "0      SMITH JR 1968-01-03  F  WILLIAM      WILLIAM SMITH JR\n",
       "1  ROTHMEYER JR 1968-01-03  F  WILLIAM  WILLIAM ROTHMEYER JR\n",
       "2       ASBY JR 1968-01-03  F  WILLIAM       WILLIAM ASBY JR\n",
       "3     SALTER JR 1968-01-03  F  WILLIAM     WILLIAM SALTER JR\n",
       "4     SALTER JR 1968-01-03  F  WILLIAM     WILLIAM SALTER JR"
      ]
     },
     "execution_count": 15,
     "metadata": {},
     "output_type": "execute_result"
    }
   ],
   "source": [
    "names.head()"
   ]
  },
  {
   "cell_type": "code",
   "execution_count": 16,
   "metadata": {},
   "outputs": [
    {
     "name": "stdout",
     "output_type": "stream",
     "text": [
      "Number of entries having same date of birth and first name:  463\n",
      "Number of entries having same date of birth and gender:  435\n",
      "Number of entries having same date of birth:  463\n"
     ]
    }
   ],
   "source": [
    "finals = deDuplicate(names)"
   ]
  },
  {
   "cell_type": "code",
   "execution_count": 17,
   "metadata": {},
   "outputs": [
    {
     "data": {
      "text/html": [
       "<div>\n",
       "<style>\n",
       "    .dataframe thead tr:only-child th {\n",
       "        text-align: right;\n",
       "    }\n",
       "\n",
       "    .dataframe thead th {\n",
       "        text-align: left;\n",
       "    }\n",
       "\n",
       "    .dataframe tbody tr th {\n",
       "        vertical-align: top;\n",
       "    }\n",
       "</style>\n",
       "<table border=\"1\" class=\"dataframe\">\n",
       "  <thead>\n",
       "    <tr style=\"text-align: right;\">\n",
       "      <th></th>\n",
       "      <th>dob</th>\n",
       "      <th>fullName</th>\n",
       "      <th>gn</th>\n",
       "    </tr>\n",
       "  </thead>\n",
       "  <tbody>\n",
       "    <tr>\n",
       "      <th>0</th>\n",
       "      <td>1968-01-03</td>\n",
       "      <td>WILLIAM ASBY SALTER ROTHMEYER SMITH JR</td>\n",
       "      <td>F</td>\n",
       "    </tr>\n",
       "    <tr>\n",
       "      <th>1</th>\n",
       "      <td>1962-02-21</td>\n",
       "      <td>WILLIAM SHAFFER BLAND JR</td>\n",
       "      <td>F</td>\n",
       "    </tr>\n",
       "    <tr>\n",
       "      <th>2</th>\n",
       "      <td>1954-08-06</td>\n",
       "      <td>WILLIAM BLAND JR</td>\n",
       "      <td>F</td>\n",
       "    </tr>\n",
       "    <tr>\n",
       "      <th>3</th>\n",
       "      <td>1953-10-25</td>\n",
       "      <td>WILLIAM SHAFFER BLAND JR</td>\n",
       "      <td>F</td>\n",
       "    </tr>\n",
       "    <tr>\n",
       "      <th>4</th>\n",
       "      <td>1953-10-25</td>\n",
       "      <td>THOMAS DUNCAN JR</td>\n",
       "      <td>F</td>\n",
       "    </tr>\n",
       "  </tbody>\n",
       "</table>\n",
       "</div>"
      ],
      "text/plain": [
       "         dob                                fullName gn\n",
       "0 1968-01-03  WILLIAM ASBY SALTER ROTHMEYER SMITH JR  F\n",
       "1 1962-02-21                WILLIAM SHAFFER BLAND JR  F\n",
       "2 1954-08-06                        WILLIAM BLAND JR  F\n",
       "3 1953-10-25                WILLIAM SHAFFER BLAND JR  F\n",
       "4 1953-10-25                        THOMAS DUNCAN JR  F"
      ]
     },
     "execution_count": 17,
     "metadata": {},
     "output_type": "execute_result"
    }
   ],
   "source": [
    "finals.head()"
   ]
  },
  {
   "cell_type": "code",
   "execution_count": 18,
   "metadata": {
    "collapsed": true
   },
   "outputs": [],
   "source": [
    "finals.to_csv(\"sample_output.csv\")"
   ]
  }
 ],
 "metadata": {
  "kernelspec": {
   "display_name": "Python 3",
   "language": "python",
   "name": "python3"
  },
  "language_info": {
   "codemirror_mode": {
    "name": "ipython",
    "version": 3
   },
   "file_extension": ".py",
   "mimetype": "text/x-python",
   "name": "python",
   "nbconvert_exporter": "python",
   "pygments_lexer": "ipython3",
   "version": "3.6.1"
  }
 },
 "nbformat": 4,
 "nbformat_minor": 2
}
