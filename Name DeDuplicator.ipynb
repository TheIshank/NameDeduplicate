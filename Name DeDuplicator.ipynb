{
 "cells": [
  {
   "cell_type": "markdown",
   "metadata": {},
   "source": [
    "# Name Deduplicator\n",
    "\n",
    "## Introduction\n",
    "Redundancy in formats of names and their parts leads to a lot of confusion while handling data. Having multiple entries for same person leads to increased size of databases and inefficient operations. Thus, deDuplication of entries is an essential task and this script aims to achieve the same\n",
    "\n",
    "## External Libraries and Pre-requisites\n",
    "The script runs on Python3 (tested on ver3.6) and requires the following libraries to be installed:\n",
    "1. nameparser\n",
    "2. pandas\n",
    "\n",
    "## Working\n",
    "The following functions were created:"
   ]
  },
  {
   "cell_type": "code",
   "execution_count": 1,
   "metadata": {
    "collapsed": true
   },
   "outputs": [],
   "source": [
    "import pandas as pd\n",
    "from nameparser.parser import HumanName"
   ]
  },
  {
   "cell_type": "markdown",
   "metadata": {},
   "source": [
    "### preProcess\n",
    "This function reads the first name and last name of the entry appends them into a single string and then converts the resulting string into a HumanName object\n",
    "\n",
    "After that the function reads the Date of Birth of the entry. Since only the last two digits of the year are given in the dob, the function adds them to 1900 if the last two digits are greater than 18 otherwise it adds them to 2000 (assuming people don't tend to live more than 100 years). Then it converts the date to pandas.DateTime objects making it easier to perform date-time operations"
   ]
  },
  {
   "cell_type": "code",
   "execution_count": 2,
   "metadata": {
    "collapsed": true
   },
   "outputs": [],
   "source": [
    "def preProcess(names):\n",
    "    #Converting names to HumanName class objects\n",
    "    fullName = []\n",
    "    for x,name in names.iterrows():\n",
    "        fullName.append(HumanName(name.fn + ' ' + name.ln))\n",
    "    names['fullName'] = fullName\n",
    "    \n",
    "    #Converting dob to pandas.datetime object (assuming that entries are not older than 100 years)\n",
    "    dobs = []\n",
    "    for entry in names.dob:\n",
    "        if(int(entry[-2:]) < 18):\n",
    "            dob = 2000+int(entry[-2:])\n",
    "        else:\n",
    "            dob = 1900+int(entry[-2:])\n",
    "        dobs.append(str(entry[:-2])+str(dob))\n",
    "    names.dob = dobs\n",
    "    names.dob = pd.to_datetime(names.dob)"
   ]
  },
  {
   "cell_type": "markdown",
   "metadata": {},
   "source": [
    "### generateCross\n",
    "This function creates a comparison table from the input records. Each record is compared with records following it."
   ]
  },
  {
   "cell_type": "code",
   "execution_count": 3,
   "metadata": {
    "collapsed": true
   },
   "outputs": [],
   "source": [
    "def generateCross(names):\n",
    "    #Create a new dataframe which compares every entry with every other entry\n",
    "    entries = []\n",
    "    for i in range(len(names)):\n",
    "        for j in range(i+1,len(names)):\n",
    "            record = {}\n",
    "            record['fullName1'] = names.fullName[i]\n",
    "            record['dob1'] = names.dob[i]\n",
    "            record['gn1'] = names.gn[i]\n",
    "            record['fullName2'] = names.fullName[j]\n",
    "            record['dob2'] = names.dob[j]\n",
    "            record['gn2'] = names.gn[j]\n",
    "            entries.append(record)\n",
    "    namesCross = pd.DataFrame(entries)\n",
    "    count = 0\n",
    "    for x,name in namesCross.loc[(namesCross.dob1 == namesCross.dob2)].iterrows():\n",
    "        if(name.fullName1.first == name.fullName1.first):\n",
    "            count+=1\n",
    "    print(\"Number of entries having same date of birth and first name: \", count)\n",
    "    print(\"Number of entries having same date of birth and gender: \", len(namesCross.loc[(namesCross.dob1 == namesCross.dob2) & (namesCross.gn1 == namesCross.gn2)]))\n",
    "    print(\"Number of entries having same date of birth: \",len(namesCross.loc[(namesCross.dob1 == namesCross.dob2)]))\n",
    "    return namesCross"
   ]
  },
  {
   "cell_type": "markdown",
   "metadata": {},
   "source": [
    "### processNames\n",
    "This function compares two HumanName objects and merges them into single name. This function should only be used when the first name of both the objects is same otherwise there are chances of loss of data. It gives priority to the first object and prefers to assign it's lastname to the resulting object. If the lastname of the first object is empty then it uses the lastname of second object. The remaining names (apart from the first name and last name of the resulting object) are assigned to the middle name. Also single lettered names are checked for being the abbreviation of any of the names assigned."
   ]
  },
  {
   "cell_type": "code",
   "execution_count": 4,
   "metadata": {},
   "outputs": [],
   "source": [
    "def processNames(name1, name2):\n",
    "    names = list((set(name1.middle.split(' ')) | set(name2.middle.split(' ')) | set(name1.last.split(' ')) | set(name2.last.split(' '))) - {''})\n",
    "    for name in names:\n",
    "            if(len(name) == 1):\n",
    "                for othername in names:\n",
    "                    if(othername[0] == str(name) and othername!=name):\n",
    "                        names.remove(name)\n",
    "                        break\n",
    "    if(name1.last in names):\n",
    "        names.remove(name1.last)\n",
    "        name1.middle = ' '.join(names)\n",
    "    elif(name2.last in names):\n",
    "        names.remove(name2.last)\n",
    "        name1.last = name2.last\n",
    "        name1.middle = ' '.join(names)"
   ]
  },
  {
   "cell_type": "markdown",
   "metadata": {},
   "source": [
    "### checkSame\n",
    "Takes the cross record table and compares both entries on each row. If both the entries are of same gender, were born on the same date and have the same first name then there is a high chance that they are the same person. Taking advantage of this, we assume that such entries are actually of the same person and introduce a new attribute 'same' in the cross record table."
   ]
  },
  {
   "cell_type": "code",
   "execution_count": 5,
   "metadata": {
    "collapsed": true
   },
   "outputs": [],
   "source": [
    "def checkSame(names):\n",
    "    same = []\n",
    "    for x,entry in names.iterrows():\n",
    "        if(entry.dob1 == entry.dob2 and entry.gn1 == entry.gn2 and entry.fullName1.first == entry.fullName2.first):\n",
    "            same.append(1)\n",
    "        else:\n",
    "            same.append(0)\n",
    "    names['same'] = same"
   ]
  },
  {
   "cell_type": "markdown",
   "metadata": {},
   "source": [
    "### deDuplicate\n",
    "This function does the actual job. Since each entry is being compared with the following entries in the cross table, the index positions of the first comparison by a new entry can be calculated using the formula for sum of terms in an arithematic progression. Using this, for any given entry, we can find out the entries that have the attribute 'same' as 1. The names of both these entries are combined using processNames function. Since that entry would already have been considered there is no need to re-read it. Thus a list of entries to be deleted is maintained and all entries present in the deleted list are skipped. The function return the resulting dataframe with merged names and only unique entries"
   ]
  },
  {
   "cell_type": "code",
   "execution_count": 6,
   "metadata": {
    "collapsed": true
   },
   "outputs": [],
   "source": [
    "def deDuplicate(names):\n",
    "    namesCross = generateCross(names)\n",
    "    namesCross.head()\n",
    "    checkSame(namesCross)\n",
    "    n = len(names)\n",
    "    finals = []\n",
    "    deleted = set()\n",
    "    for x,name1 in names.iterrows():\n",
    "        if x in deleted:\n",
    "            continue\n",
    "        record = {}\n",
    "        if(x == 0):\n",
    "            record['fullName'] = namesCross.fullName1[x]\n",
    "            record['dob'] = namesCross.dob1[x]\n",
    "            record['gn'] = namesCross.gn1[x]\n",
    "            for y,name2 in names.loc[x+1:].iterrows():\n",
    "                z = y\n",
    "                z-=1\n",
    "    #             print(z,\" \",namesCross.same[z])\n",
    "                if(namesCross.same[z] == 1):\n",
    "                    processNames(record['fullName'],namesCross.fullName2[z])\n",
    "                    deleted.add(y)\n",
    "\n",
    "        elif(x!=len(names)-1):\n",
    "            t = sumAP(n-1,x,-1)\n",
    "    #         print(t)\n",
    "            record['fullName'] = namesCross.fullName1[t]\n",
    "            record['dob'] = namesCross.dob1[t]\n",
    "            record['gn'] = namesCross.gn1[t]\n",
    "            for y,name2 in names.loc[x+1:].iterrows():\n",
    "                k = y-x-1\n",
    "    #             print(t+k)\n",
    "                if(namesCross.same[t+k] == 1):\n",
    "#                     print(\"yeah\", x, y, t+k)\n",
    "                    processNames(record['fullName'],namesCross.fullName2[t+k])\n",
    "                    deleted.add(y)\n",
    "        else:\n",
    "            record['fullName'] = namesCross.fullName1[len(namesCross) - 1]\n",
    "            record['dob'] = namesCross.dob1[len(namesCross) - 1]\n",
    "            record['gn'] = namesCross.gn1[len(namesCross) - 1]\n",
    "        finals.append(record)\n",
    "#         print(finals)\n",
    "    finals = pd.DataFrame(finals)\n",
    "    return finals"
   ]
  },
  {
   "cell_type": "markdown",
   "metadata": {},
   "source": [
    "### sumAP\n",
    "Function to calculate the sum of n terms in an Arithematic Progression"
   ]
  },
  {
   "cell_type": "code",
   "execution_count": 7,
   "metadata": {
    "collapsed": true
   },
   "outputs": [],
   "source": [
    "def sumAP(a,n,d):\n",
    "    s = n * (2 * a + (n-1)*d)/2\n",
    "    return s\n"
   ]
  },
  {
   "cell_type": "code",
   "execution_count": 8,
   "metadata": {
    "collapsed": true
   },
   "outputs": [],
   "source": [
    "names = pd.read_csv(\"names.csv\")"
   ]
  },
  {
   "cell_type": "code",
   "execution_count": 9,
   "metadata": {},
   "outputs": [
    {
     "data": {
      "text/html": [
       "<div>\n",
       "<style>\n",
       "    .dataframe thead tr:only-child th {\n",
       "        text-align: right;\n",
       "    }\n",
       "\n",
       "    .dataframe thead th {\n",
       "        text-align: left;\n",
       "    }\n",
       "\n",
       "    .dataframe tbody tr th {\n",
       "        vertical-align: top;\n",
       "    }\n",
       "</style>\n",
       "<table border=\"1\" class=\"dataframe\">\n",
       "  <thead>\n",
       "    <tr style=\"text-align: right;\">\n",
       "      <th></th>\n",
       "      <th>ln</th>\n",
       "      <th>dob</th>\n",
       "      <th>gn</th>\n",
       "      <th>fn</th>\n",
       "    </tr>\n",
       "  </thead>\n",
       "  <tbody>\n",
       "    <tr>\n",
       "      <th>0</th>\n",
       "      <td>SMITH JR</td>\n",
       "      <td>01/03/68</td>\n",
       "      <td>F</td>\n",
       "      <td>WILLIAM</td>\n",
       "    </tr>\n",
       "    <tr>\n",
       "      <th>1</th>\n",
       "      <td>ROTHMEYER JR</td>\n",
       "      <td>01/03/68</td>\n",
       "      <td>F</td>\n",
       "      <td>WILLIAM</td>\n",
       "    </tr>\n",
       "    <tr>\n",
       "      <th>2</th>\n",
       "      <td>ASBY JR</td>\n",
       "      <td>01/03/68</td>\n",
       "      <td>F</td>\n",
       "      <td>WILLIAM</td>\n",
       "    </tr>\n",
       "    <tr>\n",
       "      <th>3</th>\n",
       "      <td>SALTER JR</td>\n",
       "      <td>01/03/68</td>\n",
       "      <td>F</td>\n",
       "      <td>WILLIAM</td>\n",
       "    </tr>\n",
       "    <tr>\n",
       "      <th>4</th>\n",
       "      <td>SALTER JR</td>\n",
       "      <td>01/03/68</td>\n",
       "      <td>F</td>\n",
       "      <td>WILLIAM</td>\n",
       "    </tr>\n",
       "  </tbody>\n",
       "</table>\n",
       "</div>"
      ],
      "text/plain": [
       "             ln       dob gn       fn\n",
       "0      SMITH JR  01/03/68  F  WILLIAM\n",
       "1  ROTHMEYER JR  01/03/68  F  WILLIAM\n",
       "2       ASBY JR  01/03/68  F  WILLIAM\n",
       "3     SALTER JR  01/03/68  F  WILLIAM\n",
       "4     SALTER JR  01/03/68  F  WILLIAM"
      ]
     },
     "execution_count": 9,
     "metadata": {},
     "output_type": "execute_result"
    }
   ],
   "source": [
    "names.head()"
   ]
  },
  {
   "cell_type": "code",
   "execution_count": 10,
   "metadata": {},
   "outputs": [],
   "source": [
    "preProcess(names)"
   ]
  },
  {
   "cell_type": "markdown",
   "metadata": {},
   "source": [
    "The preProcess function adds the attribute fullName to the dataframe"
   ]
  },
  {
   "cell_type": "code",
   "execution_count": 11,
   "metadata": {},
   "outputs": [
    {
     "data": {
      "text/html": [
       "<div>\n",
       "<style>\n",
       "    .dataframe thead tr:only-child th {\n",
       "        text-align: right;\n",
       "    }\n",
       "\n",
       "    .dataframe thead th {\n",
       "        text-align: left;\n",
       "    }\n",
       "\n",
       "    .dataframe tbody tr th {\n",
       "        vertical-align: top;\n",
       "    }\n",
       "</style>\n",
       "<table border=\"1\" class=\"dataframe\">\n",
       "  <thead>\n",
       "    <tr style=\"text-align: right;\">\n",
       "      <th></th>\n",
       "      <th>ln</th>\n",
       "      <th>dob</th>\n",
       "      <th>gn</th>\n",
       "      <th>fn</th>\n",
       "      <th>fullName</th>\n",
       "    </tr>\n",
       "  </thead>\n",
       "  <tbody>\n",
       "    <tr>\n",
       "      <th>0</th>\n",
       "      <td>SMITH JR</td>\n",
       "      <td>1968-01-03</td>\n",
       "      <td>F</td>\n",
       "      <td>WILLIAM</td>\n",
       "      <td>WILLIAM SMITH JR</td>\n",
       "    </tr>\n",
       "    <tr>\n",
       "      <th>1</th>\n",
       "      <td>ROTHMEYER JR</td>\n",
       "      <td>1968-01-03</td>\n",
       "      <td>F</td>\n",
       "      <td>WILLIAM</td>\n",
       "      <td>WILLIAM ROTHMEYER JR</td>\n",
       "    </tr>\n",
       "    <tr>\n",
       "      <th>2</th>\n",
       "      <td>ASBY JR</td>\n",
       "      <td>1968-01-03</td>\n",
       "      <td>F</td>\n",
       "      <td>WILLIAM</td>\n",
       "      <td>WILLIAM ASBY JR</td>\n",
       "    </tr>\n",
       "    <tr>\n",
       "      <th>3</th>\n",
       "      <td>SALTER JR</td>\n",
       "      <td>1968-01-03</td>\n",
       "      <td>F</td>\n",
       "      <td>WILLIAM</td>\n",
       "      <td>WILLIAM SALTER JR</td>\n",
       "    </tr>\n",
       "    <tr>\n",
       "      <th>4</th>\n",
       "      <td>SALTER JR</td>\n",
       "      <td>1968-01-03</td>\n",
       "      <td>F</td>\n",
       "      <td>WILLIAM</td>\n",
       "      <td>WILLIAM SALTER JR</td>\n",
       "    </tr>\n",
       "  </tbody>\n",
       "</table>\n",
       "</div>"
      ],
      "text/plain": [
       "             ln        dob gn       fn              fullName\n",
       "0      SMITH JR 1968-01-03  F  WILLIAM      WILLIAM SMITH JR\n",
       "1  ROTHMEYER JR 1968-01-03  F  WILLIAM  WILLIAM ROTHMEYER JR\n",
       "2       ASBY JR 1968-01-03  F  WILLIAM       WILLIAM ASBY JR\n",
       "3     SALTER JR 1968-01-03  F  WILLIAM     WILLIAM SALTER JR\n",
       "4     SALTER JR 1968-01-03  F  WILLIAM     WILLIAM SALTER JR"
      ]
     },
     "execution_count": 11,
     "metadata": {},
     "output_type": "execute_result"
    }
   ],
   "source": [
    "names.head()"
   ]
  },
  {
   "cell_type": "markdown",
   "metadata": {},
   "source": [
    "The cross record table looks something like this:"
   ]
  },
  {
   "cell_type": "code",
   "execution_count": 12,
   "metadata": {},
   "outputs": [
    {
     "name": "stdout",
     "output_type": "stream",
     "text": [
      "Number of entries having same date of birth and first name:  463\n",
      "Number of entries having same date of birth and gender:  435\n",
      "Number of entries having same date of birth:  463\n"
     ]
    },
    {
     "data": {
      "text/html": [
       "<div>\n",
       "<style>\n",
       "    .dataframe thead tr:only-child th {\n",
       "        text-align: right;\n",
       "    }\n",
       "\n",
       "    .dataframe thead th {\n",
       "        text-align: left;\n",
       "    }\n",
       "\n",
       "    .dataframe tbody tr th {\n",
       "        vertical-align: top;\n",
       "    }\n",
       "</style>\n",
       "<table border=\"1\" class=\"dataframe\">\n",
       "  <thead>\n",
       "    <tr style=\"text-align: right;\">\n",
       "      <th></th>\n",
       "      <th>dob1</th>\n",
       "      <th>dob2</th>\n",
       "      <th>fullName1</th>\n",
       "      <th>fullName2</th>\n",
       "      <th>gn1</th>\n",
       "      <th>gn2</th>\n",
       "    </tr>\n",
       "  </thead>\n",
       "  <tbody>\n",
       "    <tr>\n",
       "      <th>0</th>\n",
       "      <td>1968-01-03</td>\n",
       "      <td>1968-01-03</td>\n",
       "      <td>WILLIAM SMITH JR</td>\n",
       "      <td>WILLIAM ROTHMEYER JR</td>\n",
       "      <td>F</td>\n",
       "      <td>F</td>\n",
       "    </tr>\n",
       "    <tr>\n",
       "      <th>1</th>\n",
       "      <td>1968-01-03</td>\n",
       "      <td>1968-01-03</td>\n",
       "      <td>WILLIAM SMITH JR</td>\n",
       "      <td>WILLIAM ASBY JR</td>\n",
       "      <td>F</td>\n",
       "      <td>F</td>\n",
       "    </tr>\n",
       "    <tr>\n",
       "      <th>2</th>\n",
       "      <td>1968-01-03</td>\n",
       "      <td>1968-01-03</td>\n",
       "      <td>WILLIAM SMITH JR</td>\n",
       "      <td>WILLIAM SALTER JR</td>\n",
       "      <td>F</td>\n",
       "      <td>F</td>\n",
       "    </tr>\n",
       "    <tr>\n",
       "      <th>3</th>\n",
       "      <td>1968-01-03</td>\n",
       "      <td>1968-01-03</td>\n",
       "      <td>WILLIAM SMITH JR</td>\n",
       "      <td>WILLIAM SALTER JR</td>\n",
       "      <td>F</td>\n",
       "      <td>F</td>\n",
       "    </tr>\n",
       "    <tr>\n",
       "      <th>4</th>\n",
       "      <td>1968-01-03</td>\n",
       "      <td>1962-02-21</td>\n",
       "      <td>WILLIAM SMITH JR</td>\n",
       "      <td>WILLIAM BLAND JR</td>\n",
       "      <td>F</td>\n",
       "      <td>F</td>\n",
       "    </tr>\n",
       "  </tbody>\n",
       "</table>\n",
       "</div>"
      ],
      "text/plain": [
       "        dob1       dob2         fullName1             fullName2 gn1 gn2\n",
       "0 1968-01-03 1968-01-03  WILLIAM SMITH JR  WILLIAM ROTHMEYER JR   F   F\n",
       "1 1968-01-03 1968-01-03  WILLIAM SMITH JR       WILLIAM ASBY JR   F   F\n",
       "2 1968-01-03 1968-01-03  WILLIAM SMITH JR     WILLIAM SALTER JR   F   F\n",
       "3 1968-01-03 1968-01-03  WILLIAM SMITH JR     WILLIAM SALTER JR   F   F\n",
       "4 1968-01-03 1962-02-21  WILLIAM SMITH JR      WILLIAM BLAND JR   F   F"
      ]
     },
     "execution_count": 12,
     "metadata": {},
     "output_type": "execute_result"
    }
   ],
   "source": [
    "namesCross = generateCross(names)\n",
    "namesCross.head()"
   ]
  },
  {
   "cell_type": "markdown",
   "metadata": {},
   "source": [
    "As visible in the dataset, 463 out of 463 entries having same date of births have same first names and 435 out of them even have the same gender. Thus it can be taken as a sufficient condition for entries to be regarded as same:"
   ]
  },
  {
   "cell_type": "code",
   "execution_count": 13,
   "metadata": {},
   "outputs": [
    {
     "name": "stdout",
     "output_type": "stream",
     "text": [
      "Number of entries having same date of birth and first name:  463\n",
      "Number of entries having same date of birth and gender:  435\n",
      "Number of entries having same date of birth:  463\n"
     ]
    }
   ],
   "source": [
    "finals = deDuplicate(names)"
   ]
  },
  {
   "cell_type": "markdown",
   "metadata": {},
   "source": [
    "The deDuplicated data looks like this"
   ]
  },
  {
   "cell_type": "code",
   "execution_count": 14,
   "metadata": {},
   "outputs": [
    {
     "data": {
      "text/html": [
       "<div>\n",
       "<style>\n",
       "    .dataframe thead tr:only-child th {\n",
       "        text-align: right;\n",
       "    }\n",
       "\n",
       "    .dataframe thead th {\n",
       "        text-align: left;\n",
       "    }\n",
       "\n",
       "    .dataframe tbody tr th {\n",
       "        vertical-align: top;\n",
       "    }\n",
       "</style>\n",
       "<table border=\"1\" class=\"dataframe\">\n",
       "  <thead>\n",
       "    <tr style=\"text-align: right;\">\n",
       "      <th></th>\n",
       "      <th>dob</th>\n",
       "      <th>fullName</th>\n",
       "      <th>gn</th>\n",
       "    </tr>\n",
       "  </thead>\n",
       "  <tbody>\n",
       "    <tr>\n",
       "      <th>0</th>\n",
       "      <td>1968-01-03</td>\n",
       "      <td>WILLIAM ASBY SALTER ROTHMEYER SMITH JR</td>\n",
       "      <td>F</td>\n",
       "    </tr>\n",
       "    <tr>\n",
       "      <th>1</th>\n",
       "      <td>1962-02-21</td>\n",
       "      <td>WILLIAM SHAFFER BLAND JR</td>\n",
       "      <td>F</td>\n",
       "    </tr>\n",
       "    <tr>\n",
       "      <th>2</th>\n",
       "      <td>1962-02-21</td>\n",
       "      <td>BILL BLAND JR</td>\n",
       "      <td>F</td>\n",
       "    </tr>\n",
       "    <tr>\n",
       "      <th>3</th>\n",
       "      <td>1954-08-06</td>\n",
       "      <td>WILLIAM BLAND JR</td>\n",
       "      <td>F</td>\n",
       "    </tr>\n",
       "    <tr>\n",
       "      <th>4</th>\n",
       "      <td>1953-10-25</td>\n",
       "      <td>WILLIAM SHAFFER BLAND JR</td>\n",
       "      <td>F</td>\n",
       "    </tr>\n",
       "  </tbody>\n",
       "</table>\n",
       "</div>"
      ],
      "text/plain": [
       "         dob                                fullName gn\n",
       "0 1968-01-03  WILLIAM ASBY SALTER ROTHMEYER SMITH JR  F\n",
       "1 1962-02-21                WILLIAM SHAFFER BLAND JR  F\n",
       "2 1962-02-21                           BILL BLAND JR  F\n",
       "3 1954-08-06                        WILLIAM BLAND JR  F\n",
       "4 1953-10-25                WILLIAM SHAFFER BLAND JR  F"
      ]
     },
     "execution_count": 14,
     "metadata": {},
     "output_type": "execute_result"
    }
   ],
   "source": [
    "finals.head()"
   ]
  },
  {
   "cell_type": "markdown",
   "metadata": {},
   "source": [
    "The number of entries is reduced to 29 from 103"
   ]
  },
  {
   "cell_type": "code",
   "execution_count": 15,
   "metadata": {},
   "outputs": [
    {
     "data": {
      "text/plain": [
       "103"
      ]
     },
     "execution_count": 15,
     "metadata": {},
     "output_type": "execute_result"
    }
   ],
   "source": [
    "len(names)"
   ]
  },
  {
   "cell_type": "code",
   "execution_count": 16,
   "metadata": {},
   "outputs": [
    {
     "data": {
      "text/plain": [
       "39"
      ]
     },
     "execution_count": 16,
     "metadata": {},
     "output_type": "execute_result"
    }
   ],
   "source": [
    "len(finals)"
   ]
  },
  {
   "cell_type": "code",
   "execution_count": 17,
   "metadata": {},
   "outputs": [],
   "source": [
    "finals.loc[1:].to_csv(\"sample_output.csv\")"
   ]
  }
 ],
 "metadata": {
  "kernelspec": {
   "display_name": "Python 3",
   "language": "python",
   "name": "python3"
  },
  "language_info": {
   "codemirror_mode": {
    "name": "ipython",
    "version": 3
   },
   "file_extension": ".py",
   "mimetype": "text/x-python",
   "name": "python",
   "nbconvert_exporter": "python",
   "pygments_lexer": "ipython3",
   "version": "3.6.1"
  }
 },
 "nbformat": 4,
 "nbformat_minor": 2
}
